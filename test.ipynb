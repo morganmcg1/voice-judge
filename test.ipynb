{
 "cells": [
  {
   "cell_type": "code",
   "execution_count": 1,
   "metadata": {},
   "outputs": [],
   "source": [
    "from pprint import pprint\n",
    "import datetime\n",
    "from audio_utils import AudioRanker, wave_read_to_wav_bytes\n",
    "from judge import (\n",
    "    BASE_SYSTEM_INSTRUCTION,\n",
    "    JudgeBasics,\n",
    "    JudgeRanking,\n",
    "    run_speech_llm,\n",
    "    update_pairwise_comparison_history,\n",
    "    BinaryVoiceRank,\n",
    ")\n",
    "from preference_learner import PreferenceLearner"
   ]
  },
  {
   "cell_type": "code",
   "execution_count": 2,
   "metadata": {},
   "outputs": [
    {
     "name": "stderr",
     "output_type": "stream",
     "text": [
      "\u001b[36m\u001b[1mweave\u001b[0m: Logged in as Weights & Biases user: morgan.\n",
      "\u001b[36m\u001b[1mweave\u001b[0m: View Weave data at https://wandb.ai/wandb-voice-ai/voice-judge/weave\n"
     ]
    },
    {
     "name": "stdout",
     "output_type": "stream",
     "text": [
      "Downloading speech samples from Weave...\n"
     ]
    },
    {
     "name": "stderr",
     "output_type": "stream",
     "text": [
      "\u001b[36m\u001b[1mweave\u001b[0m: 🍩 https://wandb.ai/wandb-voice-ai/voice-judge/r/call/01971199-f0de-7783-a12a-7b763b85b906\n",
      "\u001b[36m\u001b[1mweave\u001b[0m: 🍩 https://wandb.ai/wandb-voice-ai/voice-judge/r/call/0197119a-0e3d-7340-9988-8c68519c8c41\n",
      "\u001b[36m\u001b[1mweave\u001b[0m: 🍩 https://wandb.ai/wandb-voice-ai/voice-judge/r/call/0197119c-973c-7bc2-994d-7816d7695dee\n",
      "\u001b[36m\u001b[1mweave\u001b[0m: 🍩 https://wandb.ai/wandb-voice-ai/voice-judge/r/call/0197119c-d869-79e2-a37f-dd7b796684bd\n",
      "\u001b[36m\u001b[1mweave\u001b[0m: 🍩 https://wandb.ai/wandb-voice-ai/voice-judge/r/call/0197119d-6274-7f72-8f5c-b68a054d0485\n",
      "\u001b[36m\u001b[1mweave\u001b[0m: 🍩 https://wandb.ai/wandb-voice-ai/voice-judge/r/call/0197119d-d572-71a1-911c-23559aae6bca\n",
      "\u001b[36m\u001b[1mweave\u001b[0m: 🍩 https://wandb.ai/wandb-voice-ai/voice-judge/r/call/0197119e-0a1e-7ef1-aa17-2d9440ce567a\n",
      "\u001b[36m\u001b[1mweave\u001b[0m: 🍩 https://wandb.ai/wandb-voice-ai/voice-judge/r/call/0197119e-5ead-7b52-bbf4-075a2744f4ae\n",
      "\u001b[36m\u001b[1mweave\u001b[0m: 🍩 https://wandb.ai/wandb-voice-ai/voice-judge/r/call/019711a2-a3a2-7240-a9a9-695e514c72a8\n",
      "\u001b[36m\u001b[1mweave\u001b[0m: 🍩 https://wandb.ai/wandb-voice-ai/voice-judge/r/call/019711a3-1d95-7f30-b880-431ae7ef407d\n",
      "\u001b[36m\u001b[1mweave\u001b[0m: 🍩 https://wandb.ai/wandb-voice-ai/voice-judge/r/call/019711a6-9f1b-7af0-ab8c-9a138423e05e\n",
      "\u001b[36m\u001b[1mweave\u001b[0m: 🍩 https://wandb.ai/wandb-voice-ai/voice-judge/r/call/019711a7-a669-7c22-804f-41210924bc7d\n",
      "\u001b[36m\u001b[1mweave\u001b[0m: 🍩 https://wandb.ai/wandb-voice-ai/voice-judge/r/call/019711a8-23c1-7f91-9a2d-6c5140e8aa67\n",
      "\u001b[36m\u001b[1mweave\u001b[0m: 🍩 https://wandb.ai/wandb-voice-ai/voice-judge/r/call/019711a8-db2e-7a71-9391-531064dc1591\n",
      "\u001b[36m\u001b[1mweave\u001b[0m: 🍩 https://wandb.ai/wandb-voice-ai/voice-judge/r/call/019711a9-525b-7863-a07a-1cc9e8656bc5\n",
      "\u001b[36m\u001b[1mweave\u001b[0m: 🍩 https://wandb.ai/wandb-voice-ai/voice-judge/r/call/019711a9-c70f-7aa2-a4af-91cfa8bf7571\n",
      "\u001b[36m\u001b[1mweave\u001b[0m: 🍩 https://wandb.ai/wandb-voice-ai/voice-judge/r/call/019711ac-5a7e-7583-bcf9-72ac57c99d3d\n",
      "\u001b[36m\u001b[1mweave\u001b[0m: 🍩 https://wandb.ai/wandb-voice-ai/voice-judge/r/call/019711ac-e8b3-7dc0-9b5d-e49a8dcb9577\n",
      "\u001b[36m\u001b[1mweave\u001b[0m: 🍩 https://wandb.ai/wandb-voice-ai/voice-judge/r/call/019711af-8c2b-7ca1-9e8f-c99072117020\n"
     ]
    }
   ],
   "source": [
    "import weave\n",
    "\n",
    "# SPEECH_AUDIO_DATASET_URI = \"weave:///wandb-voice-ai/voice-judge/object/generated_speech_audio:v1\"\n",
    "SPEECH_AUDIO_DATASET_URI = \"weave:///wandb-voice-ai/voice-judge/object/generated_speech_audio_test\"\n",
    "N_SAMPLES_TO_RANK = 3\n",
    "PREFERENCE_LEARNER_MODEL =  \"gemini-2.0-flash\" #\"gemini-2.5-pro-preview-05-06\",  # \"gemini-2.0-flash\"\n",
    "JUDGE_MODEL =  \"gemini-2.0-flash\" # \"gemini-2.5-pro-preview-05-06\"\n",
    "\n",
    "weave_client = weave.init(\"wandb-voice-ai/voice-judge\")\n",
    "print(\"Downloading speech samples from Weave...\")\n",
    "ds_ref = weave.ref(SPEECH_AUDIO_DATASET_URI).get()\n",
    "speech_samples = list(ds_ref.rows)\n",
    "\n",
    "samples_to_rank = {}\n",
    "for i in range(N_SAMPLES_TO_RANK):\n",
    "    samples_to_rank[speech_samples[i][\"voice_instructions_id\"]] = {\n",
    "        \"audio\": speech_samples[i][\"audio\"],\n",
    "        \"audio_bytes\": wave_read_to_wav_bytes(speech_samples[i][\"audio\"]),\n",
    "        \"instructions\": speech_samples[i][\"voice_instructions\"],\n",
    "        \"short_hash\": None,\n",
    "        \"pairwise_comparison_history\": {},\n",
    "    }\n",
    "\n",
    "ids_to_rank = list(samples_to_rank.keys())"
   ]
  },
  {
   "cell_type": "code",
   "execution_count": 3,
   "metadata": {},
   "outputs": [],
   "source": [
    "# Register our samples for ranking\n",
    "@weave.op\n",
    "def rank_audio(sample_1: dict, sample_2: dict) -> None:\n",
    "    pass\n",
    "\n",
    "sample_1_id = ids_to_rank[0]\n",
    "sample_2_id = ids_to_rank[1]\n",
    "\n",
    "sample_1 = {\"id\": sample_1_id, **samples_to_rank[sample_1_id]}\n",
    "sample_2 = {\"id\": sample_2_id, **samples_to_rank[sample_2_id]}\n",
    "\n",
    "_, target_call = rank_audio.call(sample_1, sample_2)"
   ]
  },
  {
   "cell_type": "code",
   "execution_count": 4,
   "metadata": {},
   "outputs": [
    {
     "name": "stderr",
     "output_type": "stream",
     "text": [
      "\u001b[36m\u001b[1mweave\u001b[0m: 📦 Published to https://wandb.ai/wandb-voice-ai/voice-judge/weave/objects/AudioRanker/versions/ym5a2rKViLvZtIjKh5VMKYzRxpZOmGhGDTLgSi8hDN8\n"
     ]
    }
   ],
   "source": [
    "# Init Ranker\n",
    "\n",
    "ranker = AudioRanker(\n",
    "    [\n",
    "        {\n",
    "            \"id\": sample_1_id,\n",
    "            \"audio\": samples_to_rank[sample_1_id][\"audio\"],\n",
    "            \"original_input_order\": 1,\n",
    "        },\n",
    "        {\n",
    "            \"id\": sample_2_id,\n",
    "            # \"audio\": samples_to_rank[sample_2_id][\"audio_bytes\"],\n",
    "            \"audio\": samples_to_rank[sample_2_id][\"audio\"],\n",
    "            \"original_input_order\": 2,\n",
    "        },\n",
    "    ],\n",
    "    weave_client=weave_client,\n",
    "    target_call=target_call,\n",
    "    image_path=\"assets/gta-vi_guy_in_front_of_truck_cropped.jpg\",\n",
    ")"
   ]
  },
  {
   "cell_type": "code",
   "execution_count": 5,
   "metadata": {},
   "outputs": [
    {
     "data": {
      "application/vnd.jupyter.widget-view+json": {
       "model_id": "78cd93a04abc48e7ad9266e94aa5a125",
       "version_major": 2,
       "version_minor": 0
      },
      "text/plain": [
       "VBox(children=(HBox(children=(VBox(children=(HTML(value='<h3>Which voice sample suits this character?</h3>'), …"
      ]
     },
     "metadata": {},
     "output_type": "display_data"
    }
   ],
   "source": [
    "# Do ranking\n",
    "\n",
    "ranker.display_widget()"
   ]
  },
  {
   "cell_type": "code",
   "execution_count": 6,
   "metadata": {},
   "outputs": [
    {
     "data": {
      "text/plain": [
       "{'rankings': [{'rank': 1,\n",
       "   'id': 'weary_georgia_mutter_20250526_2033',\n",
       "   'original_input_order': 2,\n",
       "   'short_hash': 'c8ab9b2d'},\n",
       "  {'rank': 2,\n",
       "   'id': 'surprised_french_veteran_20250526_2033',\n",
       "   'original_input_order': 1,\n",
       "   'short_hash': '39de6b56'}],\n",
       " 'completed_at': '2025-05-27_12-56',\n",
       " 'preferred_id': 'weary_georgia_mutter_20250526_2033',\n",
       " 'rejected_id': 'surprised_french_veteran_20250526_2033'}"
      ]
     },
     "execution_count": 6,
     "metadata": {},
     "output_type": "execute_result"
    }
   ],
   "source": [
    "ranking = ranker.get_final_rankings()\n",
    "samples_to_rank = update_pairwise_comparison_history(samples_to_rank, ranking)\n",
    "ranking"
   ]
  },
  {
   "cell_type": "code",
   "execution_count": 45,
   "metadata": {},
   "outputs": [],
   "source": []
  },
  {
   "cell_type": "code",
   "execution_count": 46,
   "metadata": {},
   "outputs": [
    {
     "name": "stdout",
     "output_type": "stream",
     "text": [
      "Updating comparisons...\n",
      "Running pattern update...\n",
      "\n",
      "\n",
      "Pattern update result:\n",
      "('reasoning: The preferred voice in the provided comparison demonstrates a '\n",
      " 'tone that is slightly more engaging and casual, achieved through variations '\n",
      " 'in intonation and slight variations in speed. This suggests that a more '\n",
      " 'conversational and relatable delivery is preferred. The rejected voice has a '\n",
      " 'flatter affect and a slightly less relaxed delivery, hence the preference.')\n",
      "'strong: []'\n",
      "(\"emerging: ['Preference for a conversational and relatable tone.', \"\n",
      " \"'Preference for variations in intonation and speed to enhance engagement.', \"\n",
      " \"'Avoidance of flat affect and less relaxed delivery.']\")\n"
     ]
    }
   ],
   "source": [
    "learner = PreferenceLearner()\n",
    "\n",
    "await learner.update(ranking, samples_to_rank)"
   ]
  },
  {
   "cell_type": "code",
   "execution_count": null,
   "metadata": {},
   "outputs": [],
   "source": []
  },
  {
   "cell_type": "code",
   "execution_count": null,
   "metadata": {},
   "outputs": [],
   "source": []
  },
  {
   "cell_type": "code",
   "execution_count": null,
   "metadata": {},
   "outputs": [],
   "source": []
  },
  {
   "cell_type": "code",
   "execution_count": 15,
   "metadata": {},
   "outputs": [
    {
     "name": "stdout",
     "output_type": "stream",
     "text": [
      "('The primary goal is to rank voices based on their suitability as a '\n",
      " \"'frustrated gamer' along with other vocal qualities. \\n\"\n",
      " '\\n'\n",
      " 'Voice 1: Exhibits excellent clarity and naturalness. The pitch is slightly '\n",
      " \"higher and has a strained quality that perfectly matches the 'frustrated \"\n",
      " \"gamer' persona. Intonation effectively conveys rising frustration. Pacing is \"\n",
      " 'good, and energy is high and engaging. The timbre supports the emotional '\n",
      " 'state. Highly suitable for the context.\\n'\n",
      " '\\n'\n",
      " 'Voice 2: Clear and natural, but the pitch is lower and the delivery is '\n",
      " 'calmer, sounding more like general annoyance or disappointment rather than '\n",
      " 'acute gamer frustration. While expressive, the energy level is lower '\n",
      " 'compared to the others for this specific context. Timbre is pleasant but '\n",
      " \"doesn't convey the same level of agitation. Less suitable for a 'frustrated \"\n",
      " \"gamer' but good for a generally annoyed tone.\\n\"\n",
      " '\\n'\n",
      " 'Voice 3: Excellent clarity and naturalness. The pitch is appropriate, and '\n",
      " \"the intonation strongly conveys frustration, especially in the line 'GTA 6 \"\n",
      " \"was supposed to be out by now'. Energy is high and engaging. Timbre is clear \"\n",
      " 'and pleasant. Very suitable for the context, almost on par with Voice 1.\\n'\n",
      " '\\n'\n",
      " 'Ranking Rationale:\\n'\n",
      " 'Voice 1 is ranked first because its slightly higher, strained pitch and '\n",
      " 'overall delivery most convincingly portray an exasperated, frustrated gamer. '\n",
      " 'The build-up of frustration feels very authentic to the scenario.\\n'\n",
      " \"Voice 3 is a very close second. It's highly expressive and energetic, \"\n",
      " \"clearly conveying frustration. It's an excellent fit for the context, \"\n",
      " 'perhaps representing a slightly different style of gamer frustration but '\n",
      " 'equally valid.\\n'\n",
      " \"Voice 2 is ranked third because while it's a good quality voice, its lower \"\n",
      " 'energy and calmer, more measured delivery of frustration make it less '\n",
      " \"fitting for the specific 'frustrated gamer' context compared to the other \"\n",
      " 'two. It sounds more like someone who is generally annoyed or disappointed.')\n",
      "['voice_1', 'voice_3', 'voice_2']\n",
      "\n",
      "weary_georgia_mutter_20250526_2033 c8ab9b2d\n",
      "hushed_georgia_rush_20250526_2033 adcc9dc3\n",
      "surprised_french_veteran_20250526_2033 39de6b56\n",
      "\n",
      "Human Ranking:\n",
      "(\"Voice 1: {'rank': 1, 'id': 'weary_georgia_mutter_20250526_2033', \"\n",
      " \"'original_input_order': 2, 'short_hash': 'c8ab9b2d'}\")\n",
      "(\"Voice 2: {'rank': 2, 'id': 'hushed_georgia_rush_20250526_2033', \"\n",
      " \"'original_input_order': 3, 'short_hash': 'adcc9dc3'}\")\n",
      "(\"Voice 3: {'rank': 3, 'id': 'surprised_french_veteran_20250526_2033', \"\n",
      " \"'original_input_order': 1, 'short_hash': '39de6b56'}\")\n"
     ]
    }
   ],
   "source": [
    "BASIC_JUDGE_SYSTEM_INSTRUCTION = \"Assess the generated voices provided\"\n",
    "judge_prompt = f\"\"\"Based on the following criteria, your task is to rank the voices proivded:\\\n",
    "\n",
    "{str(builder_result.how_to_judge_a_voice)}\n",
    "\n",
    "\"\"\"\n",
    "\n",
    "\n",
    "@weave.op\n",
    "async def run_speech_judge():\n",
    "    # Example with file path\n",
    "    result = await run_speech_llm(\n",
    "        system_instruction=BASIC_JUDGE_SYSTEM_INSTRUCTION,\n",
    "        prompt=judge_prompt,\n",
    "        model_name=\"gemini-2.5-pro-preview-05-06\",  # \"gemini-2.0-flash\",\n",
    "        temperature=0.1,\n",
    "        response_model=JudgeRanking,\n",
    "        audio_data=[\n",
    "            samples_with_rankings[0][\"audio_bytes\"],\n",
    "            samples_with_rankings[1][\"audio_bytes\"],\n",
    "            samples_with_rankings[2][\"audio_bytes\"],\n",
    "        ],\n",
    "        initial_audio_parts_prompt=\"\\n\\nvoice_1:\\n\",\n",
    "        audio_parts_prompt_divider=\"\\n\\nvoice_{input_order}:\\n\",\n",
    "    )\n",
    "    return result\n",
    "\n",
    "\n",
    "# Run example\n",
    "# result = asyncio.run(example())\n",
    "result = await run_speech_judge()\n",
    "pprint(result.thinking)\n",
    "pprint(result.ranking)\n",
    "print()\n",
    "\n",
    "# for s in samples_with_rankings:\n",
    "#     print(s.get(\"id\"), s.get(\"short_hash\"))\n",
    "# print()\n",
    "\n",
    "print(\"Human Ranking:\")\n",
    "for i in range(3):\n",
    "    pprint(f\"Voice {i + 1}: {final_rankings[i]}\")"
   ]
  },
  {
   "cell_type": "markdown",
   "metadata": {},
   "source": []
  }
 ],
 "metadata": {
  "kernelspec": {
   "display_name": ".venv",
   "language": "python",
   "name": "python3"
  },
  "language_info": {
   "codemirror_mode": {
    "name": "ipython",
    "version": 3
   },
   "file_extension": ".py",
   "mimetype": "text/x-python",
   "name": "python",
   "nbconvert_exporter": "python",
   "pygments_lexer": "ipython3",
   "version": "3.11.11"
  }
 },
 "nbformat": 4,
 "nbformat_minor": 2
}
