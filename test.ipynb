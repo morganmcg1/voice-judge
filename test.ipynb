{
 "cells": [
  {
   "cell_type": "code",
   "execution_count": 1,
   "metadata": {},
   "outputs": [],
   "source": [
    "from audio_utils import AudioRankerSequential, wave_read_to_wav_bytes\n",
    "from judge import run_speech_judge"
   ]
  },
  {
   "cell_type": "code",
   "execution_count": 2,
   "metadata": {},
   "outputs": [
    {
     "name": "stderr",
     "output_type": "stream",
     "text": [
      "\u001b[36m\u001b[1mweave\u001b[0m: Logged in as Weights & Biases user: morgan.\n",
      "\u001b[36m\u001b[1mweave\u001b[0m: View Weave data at https://wandb.ai/wandb-voice-ai/voice-judge/weave\n"
     ]
    },
    {
     "name": "stdout",
     "output_type": "stream",
     "text": [
      "Downloading speech samples from Weave...\n"
     ]
    }
   ],
   "source": [
    "import weave\n",
    "\n",
    "# SPEECH_AUDIO_DATASET_URI = \"weave:///wandb-voice-ai/voice-judge/object/generated_speech_audio:v1\"\n",
    "SPEECH_AUDIO_DATASET_URI = \"weave:///wandb-voice-ai/voice-judge/object/generated_speech_audio_test\"\n",
    "\n",
    "weave_client = weave.init(\"wandb-voice-ai/voice-judge\")\n",
    "print(\"Downloading speech samples from Weave...\")\n",
    "ds_ref = weave.ref(SPEECH_AUDIO_DATASET_URI).get()\n",
    "speech_samples = list(ds_ref.rows)\n",
    "\n",
    "samples_to_rank = []\n",
    "for i in range(3):\n",
    "    samples_to_rank.append({\"id\": speech_samples[i][\"voice_instructions_id\"],\n",
    "                           \"audio\": speech_samples[i][\"audio\"],\n",
    "                           \"instructions\": speech_samples[i][\"voice_instructions\"],\n",
    "                           })"
   ]
  },
  {
   "cell_type": "code",
   "execution_count": 3,
   "metadata": {},
   "outputs": [],
   "source": [
    "@weave.op\n",
    "def rank_audio(sample_one, sample_two, sample_three):\n",
    "    pass\n",
    "\n",
    "_, call = rank_audio.call(samples_to_rank[0], samples_to_rank[1], samples_to_rank[2])\n",
    "\n",
    "target_call_id = call.id"
   ]
  },
  {
   "cell_type": "code",
   "execution_count": 4,
   "metadata": {},
   "outputs": [
    {
     "name": "stdout",
     "output_type": "stream",
     "text": [
      "01970e2d-67f4-7673-971f-265c3ec156bb\n"
     ]
    }
   ],
   "source": [
    "print(target_call_id)"
   ]
  },
  {
   "cell_type": "code",
   "execution_count": 7,
   "metadata": {},
   "outputs": [
    {
     "data": {
      "text/plain": [
       "[{'id': 'surprised_french_veteran_20250526_2033',\n",
       "  'audio': <wave.Wave_read at 0x122ad6fd0>,\n",
       "  'instructions': 'Voice/Affect: raspy, weather-worn male, late-50s, clear but noticeable French accent in English.\\nTone & Emotion: loud, rapid-fire surprise laced with frustrated disbelief and dark humor.\\nDelivery: fast, agitated, slightly breathless; brief pause after “up there?” then punch the rest.\\nPronunciation/Emphasis: stress “GTA 6,” “by now,” and “hand.” Keep French vowels on “coding.”\\nLine: “What are you doing up there? (short beat) GTA 6 was supposed to be out by now — you coding the whole thing by hand or what?!”'},\n",
       " {'id': 'weary_georgia_mutter_20250526_2033',\n",
       "  'audio': <wave.Wave_read at 0x122ace510>,\n",
       "  'instructions': 'Voice/Affect: gravelly, life-worn Southern drawl of a late-50s Georgia man, slightly hoarse.\\nTone: confused, urgent, tinged with weary frustration.\\nPacing/Delivery: quick, breathy, and hushed—as if muttering under his breath but in a rush.\\nEmotion: bewilderment with a flicker of exasperated humor.\\nPronunciation: soft Southern vowels, drop final “g” (e.g., “coding” → “codin’”).\\nPauses: brief half-beat after “up there?” to underline confusion.\\nSpeak this line exactly:\\n“What are you doing up there? GTA 6 was supposed to be out by now — you coding the whole thing by hand or what?!”'},\n",
       " {'id': 'hushed_georgia_rush_20250526_2033',\n",
       "  'audio': <wave.Wave_read at 0x122c58d50>,\n",
       "  'instructions': 'Voice/Affect: Late-50s Southern white male from rural Georgia; soft, weathered rasp with light Georgia drawl.\\nTone & Emotion: Confused urgency mixed with world-weary frustration; keep it low, almost under your breath.\\nPacing & Volume: Speak very quick but hushed—words tumble out in a fast, whispered rush.\\nPronunciation: Southern vowel slant on “doing,” “there,” and “hand.” Stress “GTA 6,” “by now,” and “by hand.”\\nPauses: Brief half-beat after “up there?” then barrel through the rest.\\nLine: “What are you doing up there? GTA 6 was supposed to be out by now — you coding the whole thing by hand or what?!”'}]"
      ]
     },
     "execution_count": 7,
     "metadata": {},
     "output_type": "execute_result"
    }
   ],
   "source": [
    "samples_to_rank[:3]"
   ]
  },
  {
   "cell_type": "code",
   "execution_count": 5,
   "metadata": {},
   "outputs": [
    {
     "name": "stderr",
     "output_type": "stream",
     "text": [
      "\u001b[36m\u001b[1mweave\u001b[0m: 🍩 https://wandb.ai/wandb-voice-ai/voice-judge/r/call/01970e2d-67f4-7673-971f-265c3ec156bb\n"
     ]
    },
    {
     "name": "stderr",
     "output_type": "stream",
     "text": [
      "\u001b[36m\u001b[1mweave\u001b[0m: 📦 Published to https://wandb.ai/wandb-voice-ai/voice-judge/weave/objects/AudioSequentialRanking/versions/qN25MqRp9JQ9szXs5KkkzPJacZKdIxtYmquq8hY1Wd0\n"
     ]
    }
   ],
   "source": [
    "ranker = AudioRankerSequential(\n",
    "    [{\"id\": speech_samples[0][\"voice_instructions_id\"], \n",
    "      \"audio\": wave_read_to_wav_bytes(speech_samples[0][\"audio\"])}, \n",
    "     {\"id\": speech_samples[1][\"voice_instructions_id\"], \n",
    "      \"audio\": wave_read_to_wav_bytes(speech_samples[1][\"audio\"])},\n",
    "     {\"id\": speech_samples[2][\"voice_instructions_id\"], \n",
    "      \"audio\": wave_read_to_wav_bytes(speech_samples[2][\"audio\"])}\n",
    "     ],\n",
    "    weave_client=weave_client,\n",
    "    target_call_id=target_call_id,\n",
    ")"
   ]
  },
  {
   "cell_type": "code",
   "execution_count": 6,
   "metadata": {},
   "outputs": [
    {
     "data": {
      "application/vnd.jupyter.widget-view+json": {
       "model_id": "c5af9e6afd5a46ec934a2ea965b07088",
       "version_major": 2,
       "version_minor": 0
      },
      "text/plain": [
       "VBox(children=(VBox(children=(HTML(value='<h3>Listen to Audio Samples:</h3>'), VBox(children=(Label(value='Sam…"
      ]
     },
     "metadata": {},
     "output_type": "display_data"
    }
   ],
   "source": [
    "ranker.display_widget()"
   ]
  },
  {
   "cell_type": "code",
   "execution_count": 8,
   "metadata": {},
   "outputs": [
    {
     "data": {
      "text/plain": [
       "[{'rank': 1,\n",
       "  'id': 'hushed_georgia_rush_20250526_2033',\n",
       "  'original_input_order': 2},\n",
       " {'rank': 2,\n",
       "  'id': 'weary_georgia_mutter_20250526_2033',\n",
       "  'original_input_order': 1},\n",
       " {'rank': 3,\n",
       "  'id': 'surprised_french_veteran_20250526_2033',\n",
       "  'original_input_order': 0}]"
      ]
     },
     "execution_count": 8,
     "metadata": {},
     "output_type": "execute_result"
    }
   ],
   "source": [
    "final_rankings = ranker.get_final_rankings()\n",
    "final_rankings"
   ]
  },
  {
   "cell_type": "code",
   "execution_count": null,
   "metadata": {},
   "outputs": [],
   "source": [
    "for s in samples_to_rank:\n",
    "    for r in final_rankings:\n",
    "        if s.get(\"id\") == r.get(\"id\")    \n",
    "\n",
    "\n",
    "audio_bytes = wave_read_to_wav_bytes(audio_obj)\n",
    "audio_bytes_two = wave_read_to_wav_bytes(audio_obj_two)\n",
    "\n",
    "rankings_with_bytes = []\n",
    "for ranking in final_rankings:\n",
    "    rankings_with_bytes.append({\n",
    "        \"id\": ranking[\"id\"],\n",
    "        \"audio\": wave_read_to_wav_bytes(ranking[\"audio\"]),\n",
    "    })\n",
    "\n",
    "async def example():\n",
    "    # Example with file path\n",
    "    result = await process_audio_with_gemini(\n",
    "        system_instruction=BASE_SYSTEM_INSTRUCTION,\n",
    "        prompt=\"Describe each voice in this audio.\",\n",
    "        model_name=\"gemini-2.0-flash\",\n",
    "        temperature=0.1,\n",
    "        response_model=JudgeCriteria,\n",
    "        audio_data=[audio_bytes, audio_bytes_two],\n",
    "    )\n",
    "    return result\n",
    "    \n",
    "# Run example\n",
    "result = asyncio.run(example())\n",
    "print(result.thinking)\n",
    "print(result.best_voice)"
   ]
  },
  {
   "cell_type": "markdown",
   "metadata": {},
   "source": [
    "run_speech_judge()"
   ]
  }
 ],
 "metadata": {
  "kernelspec": {
   "display_name": ".venv",
   "language": "python",
   "name": "python3"
  },
  "language_info": {
   "codemirror_mode": {
    "name": "ipython",
    "version": 3
   },
   "file_extension": ".py",
   "mimetype": "text/x-python",
   "name": "python",
   "nbconvert_exporter": "python",
   "pygments_lexer": "ipython3",
   "version": "3.11.11"
  }
 },
 "nbformat": 4,
 "nbformat_minor": 2
}
