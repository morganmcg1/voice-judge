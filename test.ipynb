{
 "cells": [
  {
   "cell_type": "code",
   "execution_count": 9,
   "metadata": {},
   "outputs": [],
   "source": [
    "import asyncio\n",
    "from pprint import pprint\n",
    "from audio_utils import AudioRankerSequential, wave_read_to_wav_bytes\n",
    "from judge import BASE_SYSTEM_INSTRUCTION, JudgeBasics, JudgeRanking, run_speech_llm"
   ]
  },
  {
   "cell_type": "code",
   "execution_count": 2,
   "metadata": {},
   "outputs": [
    {
     "name": "stderr",
     "output_type": "stream",
     "text": [
      "\u001b[36m\u001b[1mweave\u001b[0m: Logged in as Weights & Biases user: morgan.\n",
      "\u001b[36m\u001b[1mweave\u001b[0m: View Weave data at https://wandb.ai/wandb-voice-ai/voice-judge/weave\n"
     ]
    },
    {
     "name": "stdout",
     "output_type": "stream",
     "text": [
      "Downloading speech samples from Weave...\n"
     ]
    }
   ],
   "source": [
    "import weave\n",
    "\n",
    "# SPEECH_AUDIO_DATASET_URI = \"weave:///wandb-voice-ai/voice-judge/object/generated_speech_audio:v1\"\n",
    "SPEECH_AUDIO_DATASET_URI = \"weave:///wandb-voice-ai/voice-judge/object/generated_speech_audio_test\"\n",
    "\n",
    "weave_client = weave.init(\"wandb-voice-ai/voice-judge\")\n",
    "print(\"Downloading speech samples from Weave...\")\n",
    "ds_ref = weave.ref(SPEECH_AUDIO_DATASET_URI).get()\n",
    "speech_samples = list(ds_ref.rows)\n",
    "\n",
    "samples_to_rank = []\n",
    "for i in range(3):\n",
    "    samples_to_rank.append(\n",
    "        {\n",
    "            \"id\": speech_samples[i][\"voice_instructions_id\"],\n",
    "            \"audio\": speech_samples[i][\"audio\"],\n",
    "            \"instructions\": speech_samples[i][\"voice_instructions\"],\n",
    "        }\n",
    "    )"
   ]
  },
  {
   "cell_type": "code",
   "execution_count": 14,
   "metadata": {},
   "outputs": [
    {
     "name": "stderr",
     "output_type": "stream",
     "text": [
      "\u001b[36m\u001b[1mweave\u001b[0m: 📦 Published to https://wandb.ai/wandb-voice-ai/voice-judge/weave/objects/AudioSequentialRanking/versions/qN25MqRp9JQ9szXs5KkkzPJacZKdIxtYmquq8hY1Wd0\n"
     ]
    }
   ],
   "source": [
    "@weave.op\n",
    "def rank_audio(sample_one, sample_two, sample_three):\n",
    "    pass\n",
    "\n",
    "_, call = rank_audio.call(samples_to_rank[0], samples_to_rank[1], samples_to_rank[2])\n",
    "target_call_id = call.id\n",
    "\n",
    "ranker = AudioRankerSequential(\n",
    "    [\n",
    "        {\n",
    "            \"id\": speech_samples[0][\"voice_instructions_id\"],\n",
    "            \"audio\": wave_read_to_wav_bytes(speech_samples[0][\"audio\"]),\n",
    "            \"original_input_order\": 1,\n",
    "        },\n",
    "        {\n",
    "            \"id\": speech_samples[1][\"voice_instructions_id\"],\n",
    "            \"audio\": wave_read_to_wav_bytes(speech_samples[1][\"audio\"]),\n",
    "            \"original_input_order\": 2,\n",
    "        },\n",
    "        {\n",
    "            \"id\": speech_samples[2][\"voice_instructions_id\"],\n",
    "            \"audio\": wave_read_to_wav_bytes(speech_samples[2][\"audio\"]),\n",
    "            \"original_input_order\": 3,\n",
    "        },\n",
    "    ],\n",
    "    weave_client=weave_client,\n",
    "    target_call_id=target_call_id,\n",
    ")"
   ]
  },
  {
   "cell_type": "code",
   "execution_count": 15,
   "metadata": {},
   "outputs": [
    {
     "data": {
      "application/vnd.jupyter.widget-view+json": {
       "model_id": "f7bad4172d0340d6a7ffec39734916b1",
       "version_major": 2,
       "version_minor": 0
      },
      "text/plain": [
       "VBox(children=(VBox(children=(HTML(value='<h3>Listen to Audio Samples:</h3>'), VBox(children=(Label(value='Sam…"
      ]
     },
     "metadata": {},
     "output_type": "display_data"
    }
   ],
   "source": [
    "ranker.display_widget()"
   ]
  },
  {
   "cell_type": "code",
   "execution_count": 16,
   "metadata": {},
   "outputs": [
    {
     "data": {
      "text/plain": [
       "[{'rank': 1,\n",
       "  'id': 'weary_georgia_mutter_20250526_2033',\n",
       "  'original_input_order': 2},\n",
       " {'rank': 2,\n",
       "  'id': 'hushed_georgia_rush_20250526_2033',\n",
       "  'original_input_order': 3},\n",
       " {'rank': 3,\n",
       "  'id': 'surprised_french_veteran_20250526_2033',\n",
       "  'original_input_order': 1}]"
      ]
     },
     "execution_count": 16,
     "metadata": {},
     "output_type": "execute_result"
    }
   ],
   "source": [
    "final_rankings = ranker.get_final_rankings()\n",
    "final_rankings"
   ]
  },
  {
   "cell_type": "code",
   "execution_count": null,
   "metadata": {},
   "outputs": [],
   "source": [
    "samples_with_rankings = []\n",
    "for s in samples_to_rank:\n",
    "    for r in final_rankings:\n",
    "        if s.get(\"id\") == r.get(\"id\"):\n",
    "            samples_with_rankings.append(\n",
    "                {\n",
    "                    \"id\": s.get(\"id\"),\n",
    "                    \"audio\": s.get(\"audio\"),\n",
    "                    \"instructions\": s.get(\"instructions\"),\n",
    "                    \"rank\": r.get(\"rank\"),\n",
    "                    \"audio_bytes\": wave_read_to_wav_bytes(s.get(\"audio\")),\n",
    "                }\n",
    "            )\n",
    "\n",
    "# sort the samples_with_rankings list by rank\n",
    "samples_with_rankings.sort(key=lambda x: x.get(\"rank\"))\n",
    "\n",
    "task_prompt = \"Given a ranking of 3 voices by a human judge from most liked to least liked, \\\n",
    "describe the voice characteristics that lead to the ranking.\"\n",
    "\n",
    "@weave.op\n",
    "async def run_speech_analyzer():\n",
    "    # Example with file path\n",
    "    builder_result = await run_speech_llm(\n",
    "        system_instruction=BASE_SYSTEM_INSTRUCTION,\n",
    "        prompt=task_prompt,\n",
    "        model_name=\"gemini-2.5-pro-preview-05-06\", # \"gemini-2.0-flash\",\n",
    "        temperature=0.1,\n",
    "        response_model=JudgeBasics,\n",
    "        audio_data=[\n",
    "            samples_with_rankings[0][\"audio_bytes\"],\n",
    "            samples_with_rankings[1][\"audio_bytes\"],\n",
    "            samples_with_rankings[2][\"audio_bytes\"],\n",
    "        ],\n",
    "    )\n",
    "    return builder_result\n",
    "\n",
    "\n",
    "# Run example\n",
    "# result = asyncio.run(example())\n",
    "builder_result = await run_speech_analyzer()\n",
    "pprint(builder_result.thinking)\n",
    "pprint(builder_result.how_to_judge_a_voice)"
   ]
  },
  {
   "cell_type": "code",
   "execution_count": null,
   "metadata": {},
   "outputs": [
    {
     "name": "stdout",
     "output_type": "stream",
     "text": [
      "('All three voices are relatively clear and intelligible. Voice 3 seems to '\n",
      " 'have a slightly more engaging tone and fewer noticeable artifacts compared '\n",
      " 'to the others. Voice 1 and 2 are similar in quality, but voice 1 has a '\n",
      " 'slight edge in naturalness.')\n",
      "['voice_3', 'voice_1', 'voice_2']\n",
      "\n",
      "Human Ranking:\n",
      "(\"Voice 1: {'rank': 1, 'id': 'weary_georgia_mutter_20250526_2033', \"\n",
      " \"'original_input_order': 2}\")\n",
      "(\"Voice 2: {'rank': 2, 'id': 'hushed_georgia_rush_20250526_2033', \"\n",
      " \"'original_input_order': 3}\")\n",
      "(\"Voice 3: {'rank': 3, 'id': 'surprised_french_veteran_20250526_2033', \"\n",
      " \"'original_input_order': 1}\")\n"
     ]
    }
   ],
   "source": [
    "BASIC_JUDGE_SYSTEM_INSTRUCTION = \"Assess the generated voices provided\"\n",
    "judge_prompt = f\"\"\"Based on the following criteria, your task is to rank the voices proivded:\\\n",
    "\n",
    "{str(builder_result.how_to_judge_a_voice)}\n",
    "\n",
    "\"\"\"\n",
    "\n",
    "@weave.op\n",
    "async def run_speech_judge():\n",
    "    # Example with file path\n",
    "    result = await run_speech_llm(\n",
    "        system_instruction=BASIC_JUDGE_SYSTEM_INSTRUCTION,\n",
    "        prompt=judge_prompt,\n",
    "        model_name=\"gemini-2.5-pro-preview-05-06\", # \"gemini-2.0-flash\",\n",
    "        temperature=0.1,\n",
    "        response_model=JudgeRanking,\n",
    "        audio_data=[\n",
    "            samples_with_rankings[0][\"audio_bytes\"],\n",
    "            samples_with_rankings[1][\"audio_bytes\"],\n",
    "            samples_with_rankings[2][\"audio_bytes\"],\n",
    "        ],\n",
    "        initial_audio_parts_prompt=\"\\n\\nvoice_1:\\n\",\n",
    "        audio_parts_prompt_divider=\"\\n\\nvoice_{input_order}:\\n\",\n",
    "    )\n",
    "    return result\n",
    "\n",
    "\n",
    "# Run example\n",
    "# result = asyncio.run(example())\n",
    "result = await run_speech_judge()\n",
    "pprint(result.thinking)\n",
    "pprint(result.ranking)\n",
    "print()\n",
    "\n",
    "print(\"Human Ranking:\")\n",
    "for i in range(3):\n",
    "    pprint(f\"Voice {i+1}: {final_rankings[i]}\")"
   ]
  },
  {
   "cell_type": "markdown",
   "metadata": {},
   "source": []
  }
 ],
 "metadata": {
  "kernelspec": {
   "display_name": ".venv",
   "language": "python",
   "name": "python3"
  },
  "language_info": {
   "codemirror_mode": {
    "name": "ipython",
    "version": 3
   },
   "file_extension": ".py",
   "mimetype": "text/x-python",
   "name": "python",
   "nbconvert_exporter": "python",
   "pygments_lexer": "ipython3",
   "version": "3.11.11"
  }
 },
 "nbformat": 4,
 "nbformat_minor": 2
}
