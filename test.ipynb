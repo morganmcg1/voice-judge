{
 "cells": [
  {
   "cell_type": "code",
   "execution_count": 1,
   "metadata": {},
   "outputs": [],
   "source": [
    "import asyncio\n",
    "from pprint import pprint\n",
    "from audio_utils import AudioRankerSequential, wave_read_to_wav_bytes\n",
    "from judge import BASE_SYSTEM_INSTRUCTION, JudgeBasics, JudgeRanking, run_speech_llm"
   ]
  },
  {
   "cell_type": "code",
   "execution_count": 2,
   "metadata": {},
   "outputs": [
    {
     "name": "stderr",
     "output_type": "stream",
     "text": [
      "\u001b[36m\u001b[1mweave\u001b[0m: Logged in as Weights & Biases user: morgan.\n",
      "\u001b[36m\u001b[1mweave\u001b[0m: View Weave data at https://wandb.ai/wandb-voice-ai/voice-judge/weave\n"
     ]
    },
    {
     "name": "stdout",
     "output_type": "stream",
     "text": [
      "Downloading speech samples from Weave...\n"
     ]
    },
    {
     "name": "stderr",
     "output_type": "stream",
     "text": [
      "\u001b[36m\u001b[1mweave\u001b[0m: 🍩 https://wandb.ai/wandb-voice-ai/voice-judge/r/call/01970e6b-22fc-7c03-ba45-3925608f1e5c\n",
      "\u001b[36m\u001b[1mweave\u001b[0m: 🍩 https://wandb.ai/wandb-voice-ai/voice-judge/r/call/01970e6c-42fd-7263-b0d9-50ffb3349a4d\n",
      "\u001b[36m\u001b[1mweave\u001b[0m: 🍩 https://wandb.ai/wandb-voice-ai/voice-judge/r/call/01970e6e-6128-74c1-88ca-cd2ee6553f03\n",
      "\u001b[36m\u001b[1mweave\u001b[0m: 🍩 https://wandb.ai/wandb-voice-ai/voice-judge/r/call/01970e6e-a4c1-76a1-82b1-b06fb20ab92c\n"
     ]
    }
   ],
   "source": [
    "import weave\n",
    "\n",
    "# SPEECH_AUDIO_DATASET_URI = \"weave:///wandb-voice-ai/voice-judge/object/generated_speech_audio:v1\"\n",
    "SPEECH_AUDIO_DATASET_URI = \"weave:///wandb-voice-ai/voice-judge/object/generated_speech_audio_test\"\n",
    "\n",
    "weave_client = weave.init(\"wandb-voice-ai/voice-judge\")\n",
    "print(\"Downloading speech samples from Weave...\")\n",
    "ds_ref = weave.ref(SPEECH_AUDIO_DATASET_URI).get()\n",
    "speech_samples = list(ds_ref.rows)\n",
    "\n",
    "samples_to_rank = []\n",
    "for i in range(3):\n",
    "    samples_to_rank.append(\n",
    "        {\n",
    "            \"id\": speech_samples[i][\"voice_instructions_id\"],\n",
    "            \"audio\": speech_samples[i][\"audio\"],\n",
    "            \"instructions\": speech_samples[i][\"voice_instructions\"],\n",
    "        }\n",
    "    )"
   ]
  },
  {
   "cell_type": "code",
   "execution_count": 3,
   "metadata": {},
   "outputs": [
    {
     "name": "stderr",
     "output_type": "stream",
     "text": [
      "\u001b[36m\u001b[1mweave\u001b[0m: 📦 Published to https://wandb.ai/wandb-voice-ai/voice-judge/weave/objects/AudioSequentialRanking/versions/0hd2Wj2WfhQyILdb85TPQUd5YBnY7agbbYYdFEo6X0E\n"
     ]
    }
   ],
   "source": [
    "@weave.op\n",
    "def rank_audio(sample_one, sample_two, sample_three):\n",
    "    pass\n",
    "\n",
    "_, call = rank_audio.call(samples_to_rank[0], samples_to_rank[1], samples_to_rank[2])\n",
    "target_call_id = call.id\n",
    "\n",
    "ranker = AudioRankerSequential(\n",
    "    [\n",
    "        {\n",
    "            \"id\": speech_samples[0][\"voice_instructions_id\"],\n",
    "            \"audio\": wave_read_to_wav_bytes(speech_samples[0][\"audio\"]),\n",
    "            \"original_input_order\": 1,\n",
    "        },\n",
    "        {\n",
    "            \"id\": speech_samples[1][\"voice_instructions_id\"],\n",
    "            \"audio\": wave_read_to_wav_bytes(speech_samples[1][\"audio\"]),\n",
    "            \"original_input_order\": 2,\n",
    "        },\n",
    "        {\n",
    "            \"id\": speech_samples[2][\"voice_instructions_id\"],\n",
    "            \"audio\": wave_read_to_wav_bytes(speech_samples[2][\"audio\"]),\n",
    "            \"original_input_order\": 3,\n",
    "        },\n",
    "    ],\n",
    "    weave_client=weave_client,\n",
    "    target_call_id=target_call_id,\n",
    ")"
   ]
  },
  {
   "cell_type": "code",
   "execution_count": 4,
   "metadata": {},
   "outputs": [
    {
     "data": {
      "application/vnd.jupyter.widget-view+json": {
       "model_id": "bb8429d304764f13916b1acc2a781b83",
       "version_major": 2,
       "version_minor": 0
      },
      "text/plain": [
       "VBox(children=(VBox(children=(HTML(value='<h3>Listen to Audio Samples:</h3>'), VBox(children=(Label(value='Sam…"
      ]
     },
     "metadata": {},
     "output_type": "display_data"
    }
   ],
   "source": [
    "ranker.display_widget()"
   ]
  },
  {
   "cell_type": "code",
   "execution_count": 5,
   "metadata": {},
   "outputs": [
    {
     "data": {
      "text/plain": [
       "[{'rank': 1,\n",
       "  'id': 'weary_georgia_mutter_20250526_2033',\n",
       "  'original_input_order': 2,\n",
       "  'short_hash': 'c8ab9b2d'},\n",
       " {'rank': 2,\n",
       "  'id': 'hushed_georgia_rush_20250526_2033',\n",
       "  'original_input_order': 3,\n",
       "  'short_hash': 'adcc9dc3'},\n",
       " {'rank': 3,\n",
       "  'id': 'surprised_french_veteran_20250526_2033',\n",
       "  'original_input_order': 1,\n",
       "  'short_hash': '39de6b56'}]"
      ]
     },
     "execution_count": 5,
     "metadata": {},
     "output_type": "execute_result"
    }
   ],
   "source": [
    "final_rankings = ranker.get_final_rankings()\n",
    "final_rankings"
   ]
  },
  {
   "cell_type": "code",
   "execution_count": 13,
   "metadata": {},
   "outputs": [],
   "source": [
    "samples_with_rankings = []\n",
    "for r in final_rankings:\n",
    "    for s in samples_to_rank:\n",
    "            if s.get(\"id\") == r.get(\"id\"):\n",
    "                samples_with_rankings.append(\n",
    "                    {\n",
    "                        \"id\": s.get(\"id\"),\n",
    "                        \"audio\": s.get(\"audio\"),\n",
    "                        \"instructions\": s.get(\"instructions\"),\n",
    "                        \"rank\": r.get(\"rank\"),\n",
    "                        \"audio_bytes\": wave_read_to_wav_bytes(s.get(\"audio\")),\n",
    "                        \"short_hash\": r.get(\"short_hash\"),\n",
    "                    }\n",
    "                )\n",
    "\n",
    "# sort the samples_with_rankings list by rank\n",
    "samples_with_rankings.sort(key=lambda x: x.get(\"rank\"))"
   ]
  },
  {
   "cell_type": "code",
   "execution_count": 14,
   "metadata": {},
   "outputs": [
    {
     "name": "stdout",
     "output_type": "stream",
     "text": [
      "('The ranking seems to prioritize naturalness, clarity, and an engaging tone '\n",
      " \"that fits the context of the dialogue (which sounds like a gamer's \"\n",
      " 'frustration). \\n'\n",
      " 'Rank 1 voice is clear, energetic, and has a natural, expressive intonation. '\n",
      " 'The pitch is moderate and pleasant. It sounds like a young adult, fitting '\n",
      " 'the context of talking about GTA 6. The delivery has a good balance of '\n",
      " 'exasperation and clarity.\\n'\n",
      " \"Rank 2 voice is deeper and more measured. It's clear, but less energetic and \"\n",
      " 'expressive than Rank 1. The pacing is slightly slower. While a good voice, '\n",
      " 'it might sound a bit too serious or gruff for the specific line compared to '\n",
      " 'the more animated Rank 1. It has a slightly gravelly quality.\\n'\n",
      " 'Rank 3 voice is higher-pitched and sounds younger, almost adolescent. The '\n",
      " 'delivery feels a bit more forced or theatrical, and less natural than the '\n",
      " \"other two. The intonation is more pronounced but doesn't sound as authentic. \"\n",
      " 'It also sounds slightly more nasal or strained compared to the others, and '\n",
      " 'perhaps a bit less clear in articulation.')\n",
      "['Clarity and Articulation: Are the words pronounced clearly and easy to '\n",
      " 'understand?',\n",
      " 'Naturalness of Delivery: Does the voice sound conversational and authentic, '\n",
      " 'or forced and artificial?',\n",
      " 'Pitch: Is the pitch appropriate and pleasant? Is it too high, too low, or '\n",
      " 'does it have an unpleasant quality (e.g., overly nasal, strained)?',\n",
      " 'Intonation and Expressiveness: Does the voice use varied intonation to '\n",
      " 'convey meaning and emotion effectively and naturally?',\n",
      " 'Pacing and Rhythm: Is the speaking rate appropriate for the content and easy '\n",
      " 'to follow?',\n",
      " 'Energy and Engagement: Does the voice sound energetic and engaging, or '\n",
      " 'monotonous and flat?',\n",
      " 'Timbre/Vocal Quality: Is the overall sound of the voice pleasant (e.g., '\n",
      " 'resonant, smooth vs. harsh, breathy, gravelly, strained)?',\n",
      " \"Suitability to Context: How well does the voice's tone and style match the \"\n",
      " 'implied context or character (e.g., a frustrated gamer)?']\n"
     ]
    }
   ],
   "source": [
    "task_prompt = \"Given a ranking of 3 voices by a human judge from most liked to least liked, \\\n",
    "describe the voice characteristics that lead to the ranking.\"\n",
    "\n",
    "@weave.op\n",
    "async def run_speech_analyzer():\n",
    "    # Example with file path\n",
    "    builder_result = await run_speech_llm(\n",
    "        system_instruction=BASE_SYSTEM_INSTRUCTION,\n",
    "        prompt=task_prompt,\n",
    "        model_name=\"gemini-2.5-pro-preview-05-06\", # \"gemini-2.0-flash\",\n",
    "        temperature=0.1,\n",
    "        response_model=JudgeBasics,\n",
    "        audio_data=[\n",
    "            samples_with_rankings[0][\"audio_bytes\"],\n",
    "            samples_with_rankings[1][\"audio_bytes\"],\n",
    "            samples_with_rankings[2][\"audio_bytes\"],\n",
    "        ],\n",
    "    )\n",
    "    return builder_result\n",
    "\n",
    "\n",
    "# Run example\n",
    "# result = asyncio.run(example())\n",
    "builder_result = await run_speech_analyzer()\n",
    "pprint(builder_result.thinking)\n",
    "pprint(builder_result.how_to_judge_a_voice)"
   ]
  },
  {
   "cell_type": "code",
   "execution_count": 15,
   "metadata": {},
   "outputs": [
    {
     "name": "stdout",
     "output_type": "stream",
     "text": [
      "('The primary goal is to rank voices based on their suitability as a '\n",
      " \"'frustrated gamer' along with other vocal qualities. \\n\"\n",
      " '\\n'\n",
      " 'Voice 1: Exhibits excellent clarity and naturalness. The pitch is slightly '\n",
      " \"higher and has a strained quality that perfectly matches the 'frustrated \"\n",
      " \"gamer' persona. Intonation effectively conveys rising frustration. Pacing is \"\n",
      " 'good, and energy is high and engaging. The timbre supports the emotional '\n",
      " 'state. Highly suitable for the context.\\n'\n",
      " '\\n'\n",
      " 'Voice 2: Clear and natural, but the pitch is lower and the delivery is '\n",
      " 'calmer, sounding more like general annoyance or disappointment rather than '\n",
      " 'acute gamer frustration. While expressive, the energy level is lower '\n",
      " 'compared to the others for this specific context. Timbre is pleasant but '\n",
      " \"doesn't convey the same level of agitation. Less suitable for a 'frustrated \"\n",
      " \"gamer' but good for a generally annoyed tone.\\n\"\n",
      " '\\n'\n",
      " 'Voice 3: Excellent clarity and naturalness. The pitch is appropriate, and '\n",
      " \"the intonation strongly conveys frustration, especially in the line 'GTA 6 \"\n",
      " \"was supposed to be out by now'. Energy is high and engaging. Timbre is clear \"\n",
      " 'and pleasant. Very suitable for the context, almost on par with Voice 1.\\n'\n",
      " '\\n'\n",
      " 'Ranking Rationale:\\n'\n",
      " 'Voice 1 is ranked first because its slightly higher, strained pitch and '\n",
      " 'overall delivery most convincingly portray an exasperated, frustrated gamer. '\n",
      " 'The build-up of frustration feels very authentic to the scenario.\\n'\n",
      " \"Voice 3 is a very close second. It's highly expressive and energetic, \"\n",
      " \"clearly conveying frustration. It's an excellent fit for the context, \"\n",
      " 'perhaps representing a slightly different style of gamer frustration but '\n",
      " 'equally valid.\\n'\n",
      " \"Voice 2 is ranked third because while it's a good quality voice, its lower \"\n",
      " 'energy and calmer, more measured delivery of frustration make it less '\n",
      " \"fitting for the specific 'frustrated gamer' context compared to the other \"\n",
      " 'two. It sounds more like someone who is generally annoyed or disappointed.')\n",
      "['voice_1', 'voice_3', 'voice_2']\n",
      "\n",
      "weary_georgia_mutter_20250526_2033 c8ab9b2d\n",
      "hushed_georgia_rush_20250526_2033 adcc9dc3\n",
      "surprised_french_veteran_20250526_2033 39de6b56\n",
      "\n",
      "Human Ranking:\n",
      "(\"Voice 1: {'rank': 1, 'id': 'weary_georgia_mutter_20250526_2033', \"\n",
      " \"'original_input_order': 2, 'short_hash': 'c8ab9b2d'}\")\n",
      "(\"Voice 2: {'rank': 2, 'id': 'hushed_georgia_rush_20250526_2033', \"\n",
      " \"'original_input_order': 3, 'short_hash': 'adcc9dc3'}\")\n",
      "(\"Voice 3: {'rank': 3, 'id': 'surprised_french_veteran_20250526_2033', \"\n",
      " \"'original_input_order': 1, 'short_hash': '39de6b56'}\")\n"
     ]
    }
   ],
   "source": [
    "BASIC_JUDGE_SYSTEM_INSTRUCTION = \"Assess the generated voices provided\"\n",
    "judge_prompt = f\"\"\"Based on the following criteria, your task is to rank the voices proivded:\\\n",
    "\n",
    "{str(builder_result.how_to_judge_a_voice)}\n",
    "\n",
    "\"\"\"\n",
    "\n",
    "@weave.op\n",
    "async def run_speech_judge():\n",
    "    # Example with file path\n",
    "    result = await run_speech_llm(\n",
    "        system_instruction=BASIC_JUDGE_SYSTEM_INSTRUCTION,\n",
    "        prompt=judge_prompt,\n",
    "        model_name=\"gemini-2.5-pro-preview-05-06\", # \"gemini-2.0-flash\",\n",
    "        temperature=0.1,\n",
    "        response_model=JudgeRanking,\n",
    "        audio_data=[\n",
    "            samples_with_rankings[0][\"audio_bytes\"],\n",
    "            samples_with_rankings[1][\"audio_bytes\"],\n",
    "            samples_with_rankings[2][\"audio_bytes\"],\n",
    "        ],\n",
    "        initial_audio_parts_prompt=\"\\n\\nvoice_1:\\n\",\n",
    "        audio_parts_prompt_divider=\"\\n\\nvoice_{input_order}:\\n\",\n",
    "    )\n",
    "    return result\n",
    "\n",
    "\n",
    "# Run example\n",
    "# result = asyncio.run(example())\n",
    "result = await run_speech_judge()\n",
    "pprint(result.thinking)\n",
    "pprint(result.ranking)\n",
    "print()\n",
    "\n",
    "# for s in samples_with_rankings:\n",
    "#     print(s.get(\"id\"), s.get(\"short_hash\"))\n",
    "# print()\n",
    "\n",
    "print(\"Human Ranking:\")\n",
    "for i in range(3):\n",
    "    pprint(f\"Voice {i+1}: {final_rankings[i]}\")"
   ]
  },
  {
   "cell_type": "markdown",
   "metadata": {},
   "source": []
  }
 ],
 "metadata": {
  "kernelspec": {
   "display_name": ".venv",
   "language": "python",
   "name": "python3"
  },
  "language_info": {
   "codemirror_mode": {
    "name": "ipython",
    "version": 3
   },
   "file_extension": ".py",
   "mimetype": "text/x-python",
   "name": "python",
   "nbconvert_exporter": "python",
   "pygments_lexer": "ipython3",
   "version": "3.11.11"
  }
 },
 "nbformat": 4,
 "nbformat_minor": 2
}
